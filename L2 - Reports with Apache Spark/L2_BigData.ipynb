{
 "nbformat": 4,
 "nbformat_minor": 0,
 "metadata": {
  "colab": {
   "provenance": []
  },
  "kernelspec": {
   "name": "python3",
   "language": "python",
   "display_name": "Python 3 (ipykernel)"
  },
  "language_info": {
   "name": "python"
  }
 },
 "cells": [
  {
   "cell_type": "code",
   "metadata": {
    "id": "8STh8vhOcvSp",
    "ExecuteTime": {
     "end_time": "2025-05-13T09:25:33.447137Z",
     "start_time": "2025-05-13T09:25:33.207547Z"
    }
   },
   "source": [
    "import sys\n",
    "\n",
    "from pyspark.sql import SparkSession, functions as F\n",
    "from pyspark.sql.window import Window"
   ],
   "outputs": [],
   "execution_count": 1
  },
  {
   "cell_type": "code",
   "source": [
    "# ===== Шаг 1: инициализация SparkSession =====\n",
    "spark = (\n",
    "    SparkSession.builder\n",
    "    .appName(\"TopLanguagesByYear\")\n",
    "    .master(\"local[1]\")  # один исполнитель, чтобы не плодить Python-воркеры\n",
    "    .config(\"spark.driver.bindAddress\", \"127.0.0.1\")\n",
    "    .config(\"spark.driver.host\", \"127.0.0.1\")\n",
    "    .config(\"spark.pyspark.python\", sys.executable)\n",
    "    .config(\"spark.pyspark.driver.python\", sys.executable)\n",
    "    .config(\"spark.python.worker.timeout\", \"300000\")\n",
    "    .getOrCreate()\n",
    ")\n",
    "sc = spark.sparkContext\n",
    "sc.setLogLevel(\"WARN\")"
   ],
   "metadata": {
    "collapsed": false,
    "ExecuteTime": {
     "end_time": "2025-05-13T09:25:43.378330Z",
     "start_time": "2025-05-13T09:25:33.977509Z"
    }
   },
   "outputs": [],
   "execution_count": 2
  },
  {
   "cell_type": "code",
   "source": [
    "# ===== Шаг 2: загрузка списка языков и broadcast =====\n",
    "languages_csv_path = r\"../data/programming-languages.csv\"\n",
    "languages_df = spark.read.csv(languages_csv_path, header=True)\n",
    "lang_col = languages_df.columns[0]\n",
    "languages_set = {row[lang_col].lower() for row in languages_df.collect()}\n",
    "languages_bc = sc.broadcast(languages_set)\n",
    "\n",
    "print(f\"Загружено {len(languages_set)} языков программирования.\")"
   ],
   "metadata": {
    "id": "S2eT4QBztSGr",
    "ExecuteTime": {
     "end_time": "2025-05-13T09:25:50.244354Z",
     "start_time": "2025-05-13T09:25:45.355112Z"
    }
   },
   "outputs": [
    {
     "name": "stdout",
     "output_type": "stream",
     "text": [
      "Загружено 698 языков программирования.\n"
     ]
    }
   ],
   "execution_count": 3
  },
  {
   "cell_type": "code",
   "source": [
    "# ===== Шаг 3: чтение XML как текста, фильтрация строк с тегами =====\n",
    "posts_txt = spark.read.text(r\"../data/posts_sample.xml\")\n",
    "filtered = posts_txt.filter(\n",
    "    F.col(\"value\").contains(\"CreationDate\") & F.col(\"value\").contains(\"Tags=\")\n",
    ")\n",
    "\n",
    "print(f\"Отфильтровано {filtered.count()} строк с тегами и датами.\")"
   ],
   "metadata": {
    "id": "uKMfL3Z5sSMy",
    "colab": {
     "base_uri": "https://localhost:8080/"
    },
    "outputId": "f24410dc-8065-4ff6-e70d-850854c9cb3f",
    "ExecuteTime": {
     "end_time": "2025-04-29T19:46:06.733966Z",
     "start_time": "2025-04-29T19:46:06.431078Z"
    }
   },
   "execution_count": 86,
   "outputs": [
    {
     "name": "stdout",
     "output_type": "stream",
     "text": [
      "Отфильтровано 18057 строк с тегами и датами.\n"
     ]
    }
   ]
  },
  {
   "cell_type": "code",
   "outputs": [
    {
     "name": "stdout",
     "output_type": "stream",
     "text": [
      "Извлечено 17644 записей с годом и тегами, отфильтрованных по годам.\n"
     ]
    }
   ],
   "source": [
    "# ===== Шаг 4: извлечение года и сырой строки тегов =====\n",
    "raw = filtered.select(\n",
    "    F.regexp_extract(\"value\", r'CreationDate=\"(\\d{4})', 1).cast(\"int\").alias(\"year\"),\n",
    "    F.regexp_extract(\"value\", r'Tags=\"([^\"]*)\"', 1).alias(\"raw_tags\")\n",
    ").filter(\n",
    "    (F.col(\"year\") >= 2010) & (F.col(\"year\") <= 2020)  # Фильтрация по годам\n",
    ")\n",
    "\n",
    "print(f\"Извлечено {raw.count()} записей с годом и тегами, отфильтрованных по годам.\")"
   ],
   "metadata": {
    "collapsed": false,
    "ExecuteTime": {
     "end_time": "2025-04-29T19:46:07.083614Z",
     "start_time": "2025-04-29T19:46:06.735970Z"
    }
   },
   "execution_count": 87
  },
  {
   "cell_type": "code",
   "outputs": [
    {
     "name": "stdout",
     "output_type": "stream",
     "text": [
      "Преобразовано в массив тегов для 17644 записей.\n"
     ]
    }
   ],
   "source": [
    "# ===== Шаг 5: преобразование raw_tags в массив тегов =====\n",
    "tags_df = raw.withColumn(\n",
    "    \"tag_str\",\n",
    "    F.regexp_replace(\"raw_tags\", \"&lt;|&gt;\", \",\")\n",
    ").withColumn(\n",
    "    \"tags\",\n",
    "    F.split(F.expr(\"trim(both ',' from tag_str)\"), \",\")\n",
    ").select(\"year\", \"tags\")\n",
    "\n",
    "print(f\"Преобразовано в массив тегов для {tags_df.count()} записей.\")"
   ],
   "metadata": {
    "collapsed": false,
    "ExecuteTime": {
     "end_time": "2025-04-29T19:46:07.404208Z",
     "start_time": "2025-04-29T19:46:07.085619Z"
    }
   },
   "execution_count": 88
  },
  {
   "cell_type": "code",
   "outputs": [
    {
     "name": "stdout",
     "output_type": "stream",
     "text": [
      "После применения explode и фильтрации по языкам, получено 8054 строк.\n"
     ]
    }
   ],
   "source": [
    "# ===== Шаг 6: explode + фильтрация по списку языков =====\n",
    "exploded = tags_df.select(\n",
    "    \"year\",\n",
    "    F.explode(\"tags\").alias(\"language\")\n",
    ").withColumn(\n",
    "    \"language\", F.lower(\"language\")\n",
    ").filter(\n",
    "    F.col(\"language\").isin(languages_bc.value)\n",
    ")\n",
    "\n",
    "print(f\"После применения explode и фильтрации по языкам, получено {exploded.count()} строк.\")"
   ],
   "metadata": {
    "collapsed": false,
    "ExecuteTime": {
     "end_time": "2025-04-29T19:46:08.601639Z",
     "start_time": "2025-04-29T19:46:07.405212Z"
    }
   },
   "execution_count": 89
  },
  {
   "cell_type": "code",
   "source": [
    "# ===== Шаг 7: группировка и подсчёт упоминаний =====\n",
    "counts = exploded.groupBy(\"year\", \"language\").count()\n",
    "\n",
    "print(f\"Подсчитано упоминаний для {counts.count()} языков по годам.\")"
   ],
   "metadata": {
    "id": "MJ7XDD7rst1-",
    "ExecuteTime": {
     "end_time": "2025-04-29T19:46:09.623727Z",
     "start_time": "2025-04-29T19:46:08.602644Z"
    }
   },
   "execution_count": 90,
   "outputs": [
    {
     "name": "stdout",
     "output_type": "stream",
     "text": [
      "Подсчитано упоминаний для 438 языков по годам.\n"
     ]
    }
   ]
  },
  {
   "cell_type": "code",
   "outputs": [],
   "source": [],
   "metadata": {
    "collapsed": false,
    "ExecuteTime": {
     "end_time": "2025-04-29T19:46:09.629196Z",
     "start_time": "2025-04-29T19:46:09.625739Z"
    }
   },
   "execution_count": 90
  },
  {
   "cell_type": "code",
   "outputs": [
    {
     "name": "stdout",
     "output_type": "stream",
     "text": [
      "Присвоены ранги, выбраны топ-10 языков для каждого года.\n"
     ]
    }
   ],
   "source": [
    "# ===== Шаг 8: присвоение ранга в годовом окне =====\n",
    "window_spec = Window.partitionBy(\"year\").orderBy(F.desc(\"count\"))\n",
    "ranked = counts.withColumn(\"rank\", F.row_number().over(window_spec)).filter(F.col(\"rank\") <= 10)\n",
    "\n",
    "print(f\"Присвоены ранги, выбраны топ-10 языков для каждого года.\")"
   ],
   "metadata": {
    "collapsed": false,
    "ExecuteTime": {
     "end_time": "2025-04-29T19:46:09.666103Z",
     "start_time": "2025-04-29T19:46:09.631204Z"
    }
   },
   "execution_count": 91
  },
  {
   "cell_type": "code",
   "outputs": [
    {
     "name": "stdout",
     "output_type": "stream",
     "text": [
      "Сформирован итоговый DataFrame с топ-10 языками по годам.\n"
     ]
    }
   ],
   "source": [
    "# ===== Шаг 9: pivot по рангу и сбор в массив =====\n",
    "pivoted = ranked.groupBy(\"year\").pivot(\"rank\", list(range(1, 11))).agg(F.first(\"language\"))\n",
    "final_df = pivoted.select(\n",
    "    \"year\",\n",
    "    F.array(*[F.col(str(i)) for i in range(1, 11)]).alias(\"top_languages\")\n",
    ").orderBy(\"year\")\n",
    "\n",
    "print(f\"Сформирован итоговый DataFrame с топ-10 языками по годам.\")"
   ],
   "metadata": {
    "collapsed": false,
    "ExecuteTime": {
     "end_time": "2025-04-29T19:46:09.730988Z",
     "start_time": "2025-04-29T19:46:09.671114Z"
    }
   },
   "execution_count": 92
  },
  {
   "cell_type": "code",
   "outputs": [
    {
     "name": "stdout",
     "output_type": "stream",
     "text": [
      "+----+--------------------------------------------------------------------------------+\n",
      "|year|top_languages                                                                   |\n",
      "+----+--------------------------------------------------------------------------------+\n",
      "|2010|[java, php, javascript, python, objective-c, c, ruby, delphi, applescript, r]   |\n",
      "|2011|[php, java, javascript, python, objective-c, c, ruby, perl, delphi, bash]       |\n",
      "|2012|[php, javascript, java, python, objective-c, ruby, c, bash, r, scala]           |\n",
      "|2013|[php, javascript, java, python, objective-c, c, ruby, r, bash, scala]           |\n",
      "|2014|[javascript, java, php, python, objective-c, c, r, ruby, bash, matlab]          |\n",
      "|2015|[javascript, java, php, python, r, c, objective-c, ruby, matlab, scala]         |\n",
      "|2016|[javascript, java, php, python, r, c, ruby, bash, scala, matlab]                |\n",
      "|2017|[javascript, java, python, php, r, c, typescript, objective-c, ruby, powershell]|\n",
      "|2018|[python, javascript, java, php, r, typescript, c, scala, powershell, bash]      |\n",
      "|2019|[python, javascript, java, php, r, typescript, c, bash, go, matlab]             |\n",
      "+----+--------------------------------------------------------------------------------+\n"
     ]
    }
   ],
   "source": [
    "# ===== Шаг 10: вывод результатов =====\n",
    "final_df.show(truncate=False)"
   ],
   "metadata": {
    "collapsed": false,
    "ExecuteTime": {
     "end_time": "2025-04-29T19:46:10.890325Z",
     "start_time": "2025-04-29T19:46:09.733995Z"
    }
   },
   "execution_count": 93
  },
  {
   "cell_type": "code",
   "outputs": [
    {
     "name": "stdout",
     "output_type": "stream",
     "text": [
      "Результаты сохранены в Parquet в top_10_languages_by_year.parquet.\n"
     ]
    }
   ],
   "source": [
    "# ===== Шаг 11: сохранение в Parquet =====\n",
    "output_path = r\"top_10_languages_by_year.parquet\"\n",
    "final_df.write.mode(\"overwrite\").parquet(output_path)\n",
    "\n",
    "print(f\"Результаты сохранены в Parquet в {output_path}.\")"
   ],
   "metadata": {
    "collapsed": false,
    "ExecuteTime": {
     "end_time": "2025-04-29T19:46:12.508838Z",
     "start_time": "2025-04-29T19:46:10.891331Z"
    }
   },
   "execution_count": 94
  },
  {
   "cell_type": "code",
   "outputs": [],
   "source": [
    "spark.stop()"
   ],
   "metadata": {
    "collapsed": false,
    "ExecuteTime": {
     "end_time": "2025-04-29T19:46:12.788390Z",
     "start_time": "2025-04-29T19:46:12.510844Z"
    }
   },
   "execution_count": 95
  }
 ]
}
