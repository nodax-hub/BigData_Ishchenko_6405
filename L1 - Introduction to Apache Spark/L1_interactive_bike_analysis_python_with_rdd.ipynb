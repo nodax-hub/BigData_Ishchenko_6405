{
 "cells": [
  {
   "cell_type": "markdown",
   "id": "848f4d20-86d3-44e8-a864-aa09ca222e59",
   "metadata": {},
   "source": [
    "# Лабораторная 1. Интерактивный анализ данных вело парковок SF Bay Area Bike Share в Apache Spark\n",
    "\n",
    "## Описание данных\n",
    "\n",
    "https://www.kaggle.com/benhamner/sf-bay-area-bike-share\n",
    "\n",
    "Схема файла stations.csv:\n",
    "\n",
    "```\n",
    "id: station ID number\n",
    "name: name of station\n",
    "lat: latitude\n",
    "long: longitude\n",
    "dock_count: number of total docks at station\n",
    "city: city (San Francisco, Redwood City, Palo Alto, Mountain View, San Jose)\n",
    "installation_date: original date that station was installed. If station was moved, it is noted below.\n",
    "```\n",
    "\n",
    "Схема файла trips.csv:\n",
    "\n",
    "```\n",
    "id: numeric ID of bike trip\n",
    "duration: time of trip in seconds\n",
    "start_date: start date of trip with date and time, in PST\n",
    "start_station_name: station name of start station\n",
    "start_station_id: numeric reference for start station\n",
    "end_date: end date of trip with date and time, in PST\n",
    "end_station_name: station name for end station\n",
    "end_station_id: numeric reference for end station\n",
    "bike_id: ID of bike used\n",
    "subscription_type: Subscriber = annual or 30-day member; Customer = 24-hour or 3-day member\n",
    "zip_code: Home zip code of subscriber (customers can choose to manually enter zip at kiosk however data is unreliable)\n",
    "```"
   ]
  },
  {
   "cell_type": "code",
   "id": "30002669-3799-4a39-831e-d276a4708f9a",
   "metadata": {
    "ExecuteTime": {
     "end_time": "2025-05-13T13:07:42.087088Z",
     "start_time": "2025-05-13T13:07:41.899769Z"
    }
   },
   "source": [
    "import os\n",
    "import sys\n",
    "\n",
    "from pyspark import SparkConf\n",
    "from pyspark import SparkContext"
   ],
   "outputs": [],
   "execution_count": 1
  },
  {
   "metadata": {
    "ExecuteTime": {
     "end_time": "2025-05-13T13:07:42.359673Z",
     "start_time": "2025-05-13T13:07:42.355619Z"
    }
   },
   "cell_type": "code",
   "source": [
    "os.environ[\"PYSPARK_PYTHON\"] = sys.executable\n",
    "os.environ[\"PYSPARK_DRIVER_PYTHON\"] = sys.executable"
   ],
   "id": "cba58b25db78bdf3",
   "outputs": [],
   "execution_count": 2
  },
  {
   "metadata": {
    "ExecuteTime": {
     "end_time": "2025-05-13T13:07:42.376282Z",
     "start_time": "2025-05-13T13:07:42.371999Z"
    }
   },
   "cell_type": "code",
   "source": [
    "conf = (SparkConf().setAppName(\"L1_interactive_bike_analysis\")\n",
    "        .setMaster(\"local[*]\")\n",
    "        .set(\"spark.pyspark.python\", sys.executable)\n",
    "        .set(\"spark.pyspark.driver.python\", sys.executable)\n",
    "        .set(\"spark.python.profile\", \"true\")\n",
    "        )"
   ],
   "id": "3ed7b961-7879-4937-ac24-11d615e091b8",
   "outputs": [],
   "execution_count": 3
  },
  {
   "metadata": {
    "ExecuteTime": {
     "end_time": "2025-05-13T13:07:51.324651Z",
     "start_time": "2025-05-13T13:07:42.409314Z"
    }
   },
   "cell_type": "code",
   "source": "sc = SparkContext.getOrCreate(conf=conf)",
   "id": "a73cf55e9e7c2504",
   "outputs": [],
   "execution_count": 4
  },
  {
   "metadata": {
    "ExecuteTime": {
     "end_time": "2025-05-13T13:07:51.346536Z",
     "start_time": "2025-05-13T13:07:51.336758Z"
    }
   },
   "cell_type": "code",
   "source": [
    "from pathlib import Path, PurePosixPath\n",
    "from typing import Union\n",
    "\n",
    "from pyspark import SparkContext\n",
    "from pyspark.rdd import RDD\n",
    "from py4j.protocol import Py4JJavaError\n",
    "from socket import error as SocketError\n",
    "\n",
    "CSVRow = list[str]\n",
    "CSVHeader = str\n",
    "\n",
    "\n",
    "def _to_file_uri(p: Union[str, Path]) -> str:\n",
    "    \"\"\"Путь → URI вида file:///C:/... (Hadoop‑friendly).\"\"\"\n",
    "    return f\"file:///{PurePosixPath(Path(p).resolve()).as_posix()}\"\n",
    "\n",
    "\n",
    "def _is_textfile_runtime_error(exc: Py4JJavaError) -> bool:\n",
    "    \"\"\"\n",
    "    True, если внутри Py4JJavaError прячется та самая\n",
    "    java.net.SocketException / IOException, с которой нам\n",
    "    нужно переключиться на безопасное чтение.\n",
    "    \"\"\"\n",
    "    msg = str(exc.java_exception)\n",
    "    return (\n",
    "            \"Connection reset\" in msg  # SocketException\n",
    "            or \"Cannot run program \\\"python3\\\"\" in msg  # воркер не запустился\n",
    "            or \"Input path does not exist\" in msg  # неверный URI\n",
    "    )\n",
    "\n",
    "\n",
    "def read_csv_rdd(\n",
    "        sc: SparkContext,\n",
    "        path: Union[str, Path],\n",
    "        *,\n",
    "        delimiter: str = \",\",\n",
    "        encoding: str = \"utf-8\",\n",
    "        errors: str = \"replace\",\n",
    ") -> tuple[CSVHeader, RDD[CSVRow]]:\n",
    "    \"\"\"\n",
    "    Надёжно загружает CSV‑файл и возвращает (header, data_rdd).\n",
    "\n",
    "    • Сначала пробует `textFile()`;\n",
    "    • При UnicodeDecodeError или Py4J‑ошибке, связанной с сокетом/воркером,\n",
    "      автоматически переходит на безопасный режим `binaryFiles()`;\n",
    "    • Любые другие исключения пробрасываются вызывающему коду.\n",
    "    \"\"\"\n",
    "    uri = _to_file_uri(path)\n",
    "\n",
    "    # --- fallback: binaryFiles() -----------------------------------------\n",
    "    def _read_binary() -> RDD[str]:\n",
    "        return (\n",
    "            sc.binaryFiles(uri)\n",
    "            .flatMap(lambda kv: kv[1].splitlines())\n",
    "            .map(lambda b: b.decode(encoding, errors))\n",
    "        )\n",
    "\n",
    "    # --- попытка textFile() ----------------------------------------------\n",
    "    try:\n",
    "        rdd_raw = sc.textFile(uri)\n",
    "        _ = rdd_raw.first()  # триггерим action\n",
    "    except UnicodeDecodeError:\n",
    "        rdd_raw = _read_binary()\n",
    "    except Py4JJavaError as e:\n",
    "        if _is_textfile_runtime_error(e):\n",
    "            rdd_raw = _read_binary()\n",
    "        else:\n",
    "            raise  # не наша ситуация – проброс\n",
    "    except SocketError:\n",
    "        rdd_raw = _read_binary()\n",
    "    # любые иные исключения не перехватываем\n",
    "\n",
    "    # --- отделяем заголовок и возвращаем результат -----------------------\n",
    "    header = rdd_raw.first()\n",
    "    data_rdd: RDD[CSVRow] = (\n",
    "        rdd_raw\n",
    "        .filter(lambda row: row != header)\n",
    "        .map(lambda row: row.split(delimiter, -1))\n",
    "    )\n",
    "\n",
    "    return header, data_rdd"
   ],
   "id": "c897c10bb19d5a7a",
   "outputs": [],
   "execution_count": 5
  },
  {
   "metadata": {
    "ExecuteTime": {
     "end_time": "2025-05-13T13:07:59.419005Z",
     "start_time": "2025-05-13T13:07:51.359323Z"
    }
   },
   "cell_type": "code",
   "source": [
    "DATA_DIR = Path(\"../data\")\n",
    "\n",
    "trips_header, trip_data = read_csv_rdd(sc, DATA_DIR / \"trips.csv\")\n",
    "stations_header, station_data = read_csv_rdd(sc, DATA_DIR / \"stations.csv\")\n",
    "\n",
    "print(\"Header (trips):  \", trips_header)\n",
    "print(\"Sample trips row:\", trip_data.first())\n",
    "\n",
    "print(\"Header (station):  \", trips_header)\n",
    "print(\"Sample station row:\", trip_data.first())"
   ],
   "id": "8a9f777030e8bb0e",
   "outputs": [
    {
     "name": "stdout",
     "output_type": "stream",
     "text": [
      "Header (trips):   id,duration,start_date,start_station_name,start_station_id,end_date,end_station_name,end_station_id,bike_id,subscription_type,zip_code\n",
      "Sample trips row: ['4576', '63', '', 'South Van Ness at Market', '66', '8/29/2013 14:14', 'South Van Ness at Market', '66', '520', 'Subscriber', '94127']\n",
      "Header (station):   id,duration,start_date,start_station_name,start_station_id,end_date,end_station_name,end_station_id,bike_id,subscription_type,zip_code\n",
      "Sample station row: ['4576', '63', '', 'South Van Ness at Market', '66', '8/29/2013 14:14', 'South Van Ness at Market', '66', '520', 'Subscriber', '94127']\n"
     ]
    }
   ],
   "execution_count": 6
  },
  {
   "cell_type": "code",
   "id": "bb7a57bc-bbef-452f-97b8-95a5412c6aef",
   "metadata": {
    "ExecuteTime": {
     "end_time": "2025-05-13T13:07:59.450105Z",
     "start_time": "2025-05-13T13:07:59.442608Z"
    }
   },
   "source": "list(enumerate(trips_header.split(\",\")))",
   "outputs": [
    {
     "data": {
      "text/plain": [
       "[(0, 'id'),\n",
       " (1, 'duration'),\n",
       " (2, 'start_date'),\n",
       " (3, 'start_station_name'),\n",
       " (4, 'start_station_id'),\n",
       " (5, 'end_date'),\n",
       " (6, 'end_station_name'),\n",
       " (7, 'end_station_id'),\n",
       " (8, 'bike_id'),\n",
       " (9, 'subscription_type'),\n",
       " (10, 'zip_code')]"
      ]
     },
     "execution_count": 7,
     "metadata": {},
     "output_type": "execute_result"
    }
   ],
   "execution_count": 7
  },
  {
   "cell_type": "code",
   "id": "537d7ba4-0a47-4041-93f5-71148fa39821",
   "metadata": {
    "ExecuteTime": {
     "end_time": "2025-05-13T13:07:59.557284Z",
     "start_time": "2025-05-13T13:07:59.551882Z"
    }
   },
   "source": "list(enumerate(stations_header.split(\",\")))",
   "outputs": [
    {
     "data": {
      "text/plain": [
       "[(0, 'id'),\n",
       " (1, 'name'),\n",
       " (2, 'lat'),\n",
       " (3, 'long'),\n",
       " (4, 'dock_count'),\n",
       " (5, 'city'),\n",
       " (6, 'installation_date')]"
      ]
     },
     "execution_count": 8,
     "metadata": {},
     "output_type": "execute_result"
    }
   ],
   "execution_count": 8
  },
  {
   "cell_type": "code",
   "id": "9c745434-7d5f-4bc2-8681-4deaf7d764f0",
   "metadata": {
    "ExecuteTime": {
     "end_time": "2025-05-13T13:08:00.917996Z",
     "start_time": "2025-05-13T13:07:59.662351Z"
    }
   },
   "source": "trip_data.take(2)",
   "outputs": [
    {
     "data": {
      "text/plain": [
       "[['4576',\n",
       "  '63',\n",
       "  '',\n",
       "  'South Van Ness at Market',\n",
       "  '66',\n",
       "  '8/29/2013 14:14',\n",
       "  'South Van Ness at Market',\n",
       "  '66',\n",
       "  '520',\n",
       "  'Subscriber',\n",
       "  '94127'],\n",
       " ['4607',\n",
       "  '',\n",
       "  '8/29/2013 14:42',\n",
       "  'San Jose City Hall',\n",
       "  '10',\n",
       "  '8/29/2013 14:43',\n",
       "  'San Jose City Hall',\n",
       "  '10',\n",
       "  '661',\n",
       "  'Subscriber',\n",
       "  '95138']]"
      ]
     },
     "execution_count": 9,
     "metadata": {},
     "output_type": "execute_result"
    }
   ],
   "execution_count": 9
  },
  {
   "cell_type": "code",
   "id": "ab452ac6-83e1-4116-91eb-f7eed5cdd60e",
   "metadata": {
    "ExecuteTime": {
     "end_time": "2025-05-13T13:08:01.988705Z",
     "start_time": "2025-05-13T13:08:00.954065Z"
    }
   },
   "source": "station_data.take(2)",
   "outputs": [
    {
     "data": {
      "text/plain": [
       "[['2',\n",
       "  'San Jose Diridon Caltrain Station',\n",
       "  '37.329732',\n",
       "  '-121.90178200000001',\n",
       "  '27',\n",
       "  'San Jose',\n",
       "  '8/6/2013'],\n",
       " ['3',\n",
       "  'San Jose Civic Center',\n",
       "  '37.330698',\n",
       "  '-121.888979',\n",
       "  '15',\n",
       "  'San Jose',\n",
       "  '8/5/2013']]"
      ]
     },
     "execution_count": 10,
     "metadata": {},
     "output_type": "execute_result"
    }
   ],
   "execution_count": 10
  },
  {
   "cell_type": "markdown",
   "id": "64f9d459-525c-432b-8715-529a73def432",
   "metadata": {},
   "source": [
    "Объявите `stationsIndexed` так, чтобы результатом был список пар ключ-значение с целочисленным ключом из первой колонки.\n",
    "Таким образом вы создаёте индекс на основе первой колонки - номера велостоянки"
   ]
  },
  {
   "cell_type": "code",
   "id": "632d36ea-3112-4466-9b48-618d762e390f",
   "metadata": {
    "ExecuteTime": {
     "end_time": "2025-05-13T13:08:02.021932Z",
     "start_time": "2025-05-13T13:08:02.018202Z"
    }
   },
   "source": "stationsIndexed = station_data.keyBy(lambda station: station[0])",
   "outputs": [],
   "execution_count": 11
  },
  {
   "cell_type": "code",
   "id": "64515328-9ea3-4997-8da4-e0f6102b280f",
   "metadata": {
    "ExecuteTime": {
     "end_time": "2025-05-13T13:08:03.080230Z",
     "start_time": "2025-05-13T13:08:02.069429Z"
    }
   },
   "source": [
    "stationsIndexed.take(2)"
   ],
   "outputs": [
    {
     "data": {
      "text/plain": [
       "[('2',\n",
       "  ['2',\n",
       "   'San Jose Diridon Caltrain Station',\n",
       "   '37.329732',\n",
       "   '-121.90178200000001',\n",
       "   '27',\n",
       "   'San Jose',\n",
       "   '8/6/2013']),\n",
       " ('3',\n",
       "  ['3',\n",
       "   'San Jose Civic Center',\n",
       "   '37.330698',\n",
       "   '-121.888979',\n",
       "   '15',\n",
       "   'San Jose',\n",
       "   '8/5/2013'])]"
      ]
     },
     "execution_count": 12,
     "metadata": {},
     "output_type": "execute_result"
    }
   ],
   "execution_count": 12
  },
  {
   "cell_type": "markdown",
   "id": "79de40a1-ebf9-408a-826f-ebf95d6490e9",
   "metadata": {},
   "source": [
    "Аналогичное действие проделайте для индексирования коллекции trips по колонкам start_station_id и  end_station_id и сохраните результат в переменные, например tripsByStartTerminals и tripsByEndTerminals."
   ]
  },
  {
   "cell_type": "code",
   "id": "1ea1aa3e-d972-4a64-b2ef-3e60e21093a4",
   "metadata": {
    "ExecuteTime": {
     "end_time": "2025-05-13T13:08:58.950433Z",
     "start_time": "2025-05-13T13:08:03.107379Z"
    }
   },
   "source": [
    "# ── 1. Найдём нужные индексы в CSV ────────────────────────────────────────\n",
    "columns = trips_header.split(\",\")  # ['id', 'duration', 'start_date', ...]\n",
    "IDX_START = columns.index(\"start_station_id\")  # 4\n",
    "IDX_END = columns.index(\"end_station_id\")  # 7\n",
    "\n",
    "# ── 2. Формируем индекс: {station_id → Iterable[Row‑list]} ───────────────\n",
    "tripsByStartTerminals = (\n",
    "    trip_data\n",
    "    .keyBy(lambda row: row[IDX_START])  # ('66',  ['4576', '63', ...])\n",
    "    .groupByKey()\n",
    "    .cache()  # кэшируем, если будем часто использовать\n",
    ")\n",
    "\n",
    "tripsByEndTerminals = (\n",
    "    trip_data\n",
    "    .keyBy(lambda row: row[IDX_END])  # ('66',  [...])\n",
    "    .groupByKey()\n",
    "    .cache()\n",
    ")\n",
    "\n",
    "# ── 3. Быстрая проверка, что всё построилось корректно ───────────────────\n",
    "print(\"Первые 2 ключа (start):\")\n",
    "for k, rows in tripsByStartTerminals.take(2):\n",
    "    print(\"  →\", k, \"| кол-во поездок:\", len(list(rows)))\n",
    "\n",
    "print(\"\\nВсего поездок:\", trip_data.count(),\n",
    "      \"| через start‑индекс:\", tripsByStartTerminals.mapValues(len).values().sum(),\n",
    "      \"| через end‑индекс:\", tripsByEndTerminals.mapValues(len).values().sum())"
   ],
   "outputs": [
    {
     "name": "stdout",
     "output_type": "stream",
     "text": [
      "Первые 2 ключа (start):\n",
      "  → 56 | кол-во поездок: 15709\n",
      "  → 26 | кол-во поездок: 311\n",
      "\n",
      "Всего поездок: 669959 | через start‑индекс: 669959 | через end‑индекс: 669959\n"
     ]
    }
   ],
   "execution_count": 13
  },
  {
   "cell_type": "markdown",
   "id": "3bcffb6f-68b0-45bf-9359-f97e4ec281b1",
   "metadata": {},
   "source": [
    "Выполните операцию объединения коллекций по ключу с помощью функции join. Объедините stationsIndexed и tripsByStartTerminals, stationsIndexed и tripsByEndTerminals."
   ]
  },
  {
   "cell_type": "code",
   "id": "33248614-5149-4c63-b222-060b5fec4b9d",
   "metadata": {
    "ExecuteTime": {
     "end_time": "2025-05-13T13:08:59.016205Z",
     "start_time": "2025-05-13T13:08:58.964501Z"
    }
   },
   "source": [
    "startTrips = stationsIndexed.join(tripsByStartTerminals)\n",
    "endTrips = stationsIndexed.join(tripsByEndTerminals)"
   ],
   "outputs": [],
   "execution_count": 14
  },
  {
   "cell_type": "markdown",
   "id": "d8db4683-3f4b-46f3-8705-bcbad0f17e0b",
   "metadata": {},
   "source": "Объявление последовательности трансформаций приводит к созданию ацикличного ориентированного графа. Вывести полученный граф можно для любого RDD."
  },
  {
   "cell_type": "code",
   "id": "d61bec0b-4839-48b6-a8c5-7fbd24b30bf3",
   "metadata": {
    "ExecuteTime": {
     "end_time": "2025-05-13T13:08:59.053721Z",
     "start_time": "2025-05-13T13:08:59.041613Z"
    }
   },
   "source": [
    "print(startTrips.toDebugString().decode(\"utf-8\"))"
   ],
   "outputs": [
    {
     "name": "stdout",
     "output_type": "stream",
     "text": [
      "(3) PythonRDD[46] at RDD at PythonRDD.scala:53 []\n",
      " |  MapPartitionsRDD[37] at mapPartitions at PythonRDD.scala:160 []\n",
      " |  ShuffledRDD[36] at partitionBy at DirectMethodHandleAccessor.java:103 []\n",
      " +-(3) PairwiseRDD[35] at join at C:\\Users\\nodax\\AppData\\Local\\Temp\\ipykernel_31732\\2908465305.py:1 []\n",
      "    |  PythonRDD[34] at join at C:\\Users\\nodax\\AppData\\Local\\Temp\\ipykernel_31732\\2908465305.py:1 []\n",
      "    |  UnionRDD[33] at union at DirectMethodHandleAccessor.java:103 []\n",
      "    |  PythonRDD[31] at RDD at PythonRDD.scala:53 []\n",
      "    |  file:///C:\\/Users/nodax/PycharmProjects/BigData_Ishchenko_6405/data/stations.csv MapPartitionsRDD[6] at textFile at DirectMethodHandleAccessor.java:103 []\n",
      "    |  file:///C:\\/Users/nodax/PycharmProjects/BigData_Ishchenko_6405/data/stations.csv HadoopRDD[5] at textFile at DirectMethodHandleAccessor.java:103 []\n",
      "    |  PythonRDD[32] at RDD at PythonRDD.scala:53 []\n",
      "    |  PythonRDD[21] at RDD at PythonRDD.scala:53 []\n",
      "    |      CachedPartitions: 1; MemorySize: 24.7 MiB; DiskSize: 0.0 B\n",
      "    |  MapPartitionsRDD[20] at mapPartitions at PythonRDD.scala:160 []\n",
      "    |  ShuffledRDD[19] at partitionBy at DirectMethodHandleAccessor.java:103 []\n",
      "    +-(1) PairwiseRDD[18] at groupByKey at C:\\Users\\nodax\\AppData\\Local\\Temp\\ipykernel_31732\\2109226425.py:10 []\n",
      "       |  PythonRDD[17] at groupByKey at C:\\Users\\nodax\\AppData\\Local\\Temp\\ipykernel_31732\\2109226425.py:10 []\n",
      "       |  file:///C:\\/Users/nodax/PycharmProjects/BigData_Ishchenko_6405/data/trips.csv BinaryFileRDD[3] at binaryFiles at DirectMethodHandleAccessor.java:103 []\n"
     ]
    }
   ],
   "execution_count": 15
  },
  {
   "cell_type": "code",
   "id": "6bd0c246-509d-46e1-aad3-2bbe4679d4df",
   "metadata": {
    "ExecuteTime": {
     "end_time": "2025-05-13T13:08:59.101425Z",
     "start_time": "2025-05-13T13:08:59.094624Z"
    }
   },
   "source": [
    "print(endTrips.toDebugString().decode(\"utf-8\"))"
   ],
   "outputs": [
    {
     "name": "stdout",
     "output_type": "stream",
     "text": [
      "(3) PythonRDD[45] at RDD at PythonRDD.scala:53 []\n",
      " |  MapPartitionsRDD[44] at mapPartitions at PythonRDD.scala:160 []\n",
      " |  ShuffledRDD[43] at partitionBy at DirectMethodHandleAccessor.java:103 []\n",
      " +-(3) PairwiseRDD[42] at join at C:\\Users\\nodax\\AppData\\Local\\Temp\\ipykernel_31732\\2908465305.py:2 []\n",
      "    |  PythonRDD[41] at join at C:\\Users\\nodax\\AppData\\Local\\Temp\\ipykernel_31732\\2908465305.py:2 []\n",
      "    |  UnionRDD[40] at union at DirectMethodHandleAccessor.java:103 []\n",
      "    |  PythonRDD[38] at RDD at PythonRDD.scala:53 []\n",
      "    |  file:///C:\\/Users/nodax/PycharmProjects/BigData_Ishchenko_6405/data/stations.csv MapPartitionsRDD[6] at textFile at DirectMethodHandleAccessor.java:103 []\n",
      "    |  file:///C:\\/Users/nodax/PycharmProjects/BigData_Ishchenko_6405/data/stations.csv HadoopRDD[5] at textFile at DirectMethodHandleAccessor.java:103 []\n",
      "    |  PythonRDD[39] at RDD at PythonRDD.scala:53 []\n",
      "    |  PythonRDD[26] at RDD at PythonRDD.scala:53 []\n",
      "    |      CachedPartitions: 1; MemorySize: 25.1 MiB; DiskSize: 0.0 B\n",
      "    |  MapPartitionsRDD[25] at mapPartitions at PythonRDD.scala:160 []\n",
      "    |  ShuffledRDD[24] at partitionBy at DirectMethodHandleAccessor.java:103 []\n",
      "    +-(1) PairwiseRDD[23] at groupByKey at C:\\Users\\nodax\\AppData\\Local\\Temp\\ipykernel_31732\\2109226425.py:17 []\n",
      "       |  PythonRDD[22] at groupByKey at C:\\Users\\nodax\\AppData\\Local\\Temp\\ipykernel_31732\\2109226425.py:17 []\n",
      "       |  file:///C:\\/Users/nodax/PycharmProjects/BigData_Ishchenko_6405/data/trips.csv BinaryFileRDD[3] at binaryFiles at DirectMethodHandleAccessor.java:103 []\n"
     ]
    }
   ],
   "execution_count": 16
  },
  {
   "cell_type": "markdown",
   "id": "35e6fdec-4552-417a-9a79-5ac3c1604ac6",
   "metadata": {},
   "source": "Выполните объявленные графы трансформаций вызовом команды count."
  },
  {
   "cell_type": "code",
   "id": "b3d7bd21-ab5f-4119-8484-d816725cec3b",
   "metadata": {
    "ExecuteTime": {
     "end_time": "2025-05-13T13:09:16.089356Z",
     "start_time": "2025-05-13T13:08:59.153780Z"
    }
   },
   "source": [
    "startTrips.count()"
   ],
   "outputs": [
    {
     "data": {
      "text/plain": [
       "70"
      ]
     },
     "execution_count": 17,
     "metadata": {},
     "output_type": "execute_result"
    }
   ],
   "execution_count": 17
  },
  {
   "cell_type": "code",
   "id": "cef28792-2d71-49ef-b390-6d6e9ce7320d",
   "metadata": {
    "ExecuteTime": {
     "end_time": "2025-05-13T13:09:32.509524Z",
     "start_time": "2025-05-13T13:09:16.102941Z"
    }
   },
   "source": [
    "endTrips.count()"
   ],
   "outputs": [
    {
     "data": {
      "text/plain": [
       "70"
      ]
     },
     "execution_count": 18,
     "metadata": {},
     "output_type": "execute_result"
    }
   ],
   "execution_count": 18
  },
  {
   "cell_type": "markdown",
   "id": "14c6b808-f130-4265-bbdc-4c02a7fc32ce",
   "metadata": {},
   "source": [
    "Если вы знаете распределение ключей заранее, вы можете выбрать оптимальный способ хеширования ключей по разделам `Partition`. Например, если один ключ встречается на порядки чаще, чем другие ключи, то использование `HashPartitioner` будет не лучшим выбором, так как данные связанные с этим ключом будут собираться в одном разделе. Это приведёт к неравномерной нагрузке на вычислительные ресурсы.\n",
    "\n",
    "Выбрать определённую реализацию класса распределения по разделам можно с помощью функции RDD `partitionBy`. Например, для RDD `stationsIndexed`  выбирается `portable_hash(idx)` с количеством разделов равным количеству разделов trips RDD."
   ]
  },
  {
   "cell_type": "code",
   "id": "2a17ea3a-f109-40e6-8959-48beed7ca672",
   "metadata": {
    "ExecuteTime": {
     "end_time": "2025-05-13T13:09:32.540435Z",
     "start_time": "2025-05-13T13:09:32.523397Z"
    }
   },
   "source": [
    "from pyspark.rdd import portable_hash\n",
    "\n",
    "stationsIndexed.partitionBy(numPartitions=trip_data.getNumPartitions(), partitionFunc=lambda x: portable_hash(x[0]))"
   ],
   "outputs": [
    {
     "data": {
      "text/plain": [
       "MapPartitionsRDD[52] at mapPartitions at PythonRDD.scala:160"
      ]
     },
     "execution_count": 19,
     "metadata": {},
     "output_type": "execute_result"
    }
   ],
   "execution_count": 19
  },
  {
   "cell_type": "markdown",
   "id": "bfb7f922-ac6b-41f4-a1d6-ecd43b60a3ab",
   "metadata": {},
   "source": [
    "Узнать какой класс назначен для текущего RDD можно обращением к полю partitioner."
   ]
  },
  {
   "cell_type": "code",
   "id": "8d4353d6-5db9-4e9f-9d3a-20f85c37fcf9",
   "metadata": {
    "ExecuteTime": {
     "end_time": "2025-05-13T13:09:32.569627Z",
     "start_time": "2025-05-13T13:09:32.565582Z"
    }
   },
   "source": [
    "stationsIndexed.partitioner"
   ],
   "outputs": [],
   "execution_count": 20
  },
  {
   "cell_type": "markdown",
   "id": "797aa041-b72e-4b6a-8992-ee7f1a715096",
   "metadata": {},
   "source": [
    "## Создание модели данных\n",
    "\n",
    "Для более эффективной обработки и получения дополнительных возможностей мы можем объявить классы сущностей предметной области и преобразовать исходные строковые данные в объявленное представление."
   ]
  },
  {
   "cell_type": "code",
   "id": "84aa084c-8e7a-427b-9bd9-1b7e106c1ea2",
   "metadata": {
    "ExecuteTime": {
     "end_time": "2025-05-13T13:09:32.614557Z",
     "start_time": "2025-05-13T13:09:32.610659Z"
    }
   },
   "source": [
    "from typing import NamedTuple\n",
    "from datetime import datetime"
   ],
   "outputs": [],
   "execution_count": 21
  },
  {
   "cell_type": "code",
   "id": "d92a6f7e-b57a-4f79-836d-07d5e3286012",
   "metadata": {
    "ExecuteTime": {
     "end_time": "2025-05-13T13:09:32.637218Z",
     "start_time": "2025-05-13T13:09:32.632554Z"
    }
   },
   "source": [
    "def init_station(stations):\n",
    "    class Station(NamedTuple):\n",
    "        station_id: int\n",
    "        name: str\n",
    "        lat: float\n",
    "        long: float\n",
    "        dock_count: int\n",
    "        landmark: str\n",
    "        installation: datetime\n",
    "    \n",
    "    for station in stations:\n",
    "        yield Station(\n",
    "            station_id=int(station[0]),\n",
    "            name=station[1],\n",
    "            lat=float(station[2]),\n",
    "            long=float(station[3]),\n",
    "            dock_count=int(station[4]),\n",
    "            landmark=station[5],\n",
    "            installation=datetime.strptime(station[6], '%m/%d/%Y')\n",
    "        )"
   ],
   "outputs": [],
   "execution_count": 22
  },
  {
   "cell_type": "code",
   "id": "a09036d1-2ba1-4184-86af-41ea7505a36b",
   "metadata": {
    "ExecuteTime": {
     "end_time": "2025-05-13T13:09:33.694966Z",
     "start_time": "2025-05-13T13:09:32.652257Z"
    }
   },
   "source": [
    "stationsInternal = station_data.mapPartitions(init_station)\n",
    "stationsInternal.first()"
   ],
   "outputs": [
    {
     "data": {
      "text/plain": [
       "Station(station_id=2, name='San Jose Diridon Caltrain Station', lat=37.329732, long=-121.90178200000001, dock_count=27, landmark='San Jose', installation=datetime.datetime(2013, 8, 6, 0, 0))"
      ]
     },
     "execution_count": 23,
     "metadata": {},
     "output_type": "execute_result"
    }
   ],
   "execution_count": 23
  },
  {
   "cell_type": "code",
   "id": "9f728f0d-86ee-4d9e-9292-31ca3c1fae35",
   "metadata": {
    "ExecuteTime": {
     "end_time": "2025-05-13T13:09:33.729036Z",
     "start_time": "2025-05-13T13:09:33.722974Z"
    }
   },
   "source": [
    "def init_trip(trips):\n",
    "    class Trip(NamedTuple):\n",
    "        trip_id: int\n",
    "        duration: int\n",
    "        start_date: datetime\n",
    "        start_station_name: str\n",
    "        start_station_id: int\n",
    "        end_date: datetime\n",
    "        end_station_name: str\n",
    "        end_station_id: int\n",
    "        bike_id: int\n",
    "        subscription_type: str\n",
    "        zip_code: str\n",
    "\n",
    "    for trip in trips:\n",
    "        try:\n",
    "            yield Trip(\n",
    "                trip_id=int(trip[0]),\n",
    "                duration=int(trip[1]),\n",
    "                start_date=datetime.strptime(trip[2], '%m/%d/%Y %H:%M'),\n",
    "                start_station_name=trip[3],\n",
    "                start_station_id=int(trip[4]),\n",
    "                end_date=datetime.strptime(trip[5], '%m/%d/%Y %H:%M'),\n",
    "                end_station_name=trip[6],\n",
    "                end_station_id=trip[7],\n",
    "                bike_id=int(trip[8]),\n",
    "                subscription_type=trip[9],\n",
    "                zip_code=trip[10]\n",
    "            )\n",
    "        except Exception:\n",
    "            continue"
   ],
   "outputs": [],
   "execution_count": 24
  },
  {
   "cell_type": "code",
   "id": "c265426b-f20b-426e-aeba-7295bc797f3b",
   "metadata": {
    "ExecuteTime": {
     "end_time": "2025-05-13T13:09:35.143319Z",
     "start_time": "2025-05-13T13:09:33.775546Z"
    }
   },
   "source": [
    "tripsInternal = trip_data.mapPartitions(init_trip)\n",
    "tripsInternal.take(10)"
   ],
   "outputs": [
    {
     "data": {
      "text/plain": [
       "[Trip(trip_id=4130, duration=71, start_date=datetime.datetime(2013, 8, 29, 10, 16), start_station_name='Mountain View City Hall', start_station_id=27, end_date=datetime.datetime(2013, 8, 29, 10, 17), end_station_name='Mountain View City Hall', end_station_id='27', bike_id=48, subscription_type='Subscriber', zip_code='97214'),\n",
       " Trip(trip_id=4251, duration=77, start_date=datetime.datetime(2013, 8, 29, 11, 29), start_station_name='San Jose City Hall', start_station_id=10, end_date=datetime.datetime(2013, 8, 29, 11, 30), end_station_name='San Jose City Hall', end_station_id='10', bike_id=26, subscription_type='Subscriber', zip_code='95060'),\n",
       " Trip(trip_id=4299, duration=83, start_date=datetime.datetime(2013, 8, 29, 12, 2), start_station_name='South Van Ness at Market', start_station_id=66, end_date=datetime.datetime(2013, 8, 29, 12, 4), end_station_name='Market at 10th', end_station_id='67', bike_id=319, subscription_type='Subscriber', zip_code='94103'),\n",
       " Trip(trip_id=4927, duration=103, start_date=datetime.datetime(2013, 8, 29, 18, 54), start_station_name='Golden Gate at Polk', start_station_id=59, end_date=datetime.datetime(2013, 8, 29, 18, 56), end_station_name='Golden Gate at Polk', end_station_id='59', bike_id=527, subscription_type='Subscriber', zip_code='94109'),\n",
       " Trip(trip_id=4500, duration=109, start_date=datetime.datetime(2013, 8, 29, 13, 25), start_station_name='Santa Clara at Almaden', start_station_id=4, end_date=datetime.datetime(2013, 8, 29, 13, 27), end_station_name='Adobe on Almaden', end_station_id='5', bike_id=679, subscription_type='Subscriber', zip_code='95112'),\n",
       " Trip(trip_id=4563, duration=111, start_date=datetime.datetime(2013, 8, 29, 14, 2), start_station_name='San Salvador at 1st', start_station_id=8, end_date=datetime.datetime(2013, 8, 29, 14, 4), end_station_name='San Salvador at 1st', end_station_id='8', bike_id=687, subscription_type='Subscriber', zip_code='95112'),\n",
       " Trip(trip_id=4760, duration=113, start_date=datetime.datetime(2013, 8, 29, 17, 1), start_station_name='South Van Ness at Market', start_station_id=66, end_date=datetime.datetime(2013, 8, 29, 17, 3), end_station_name='South Van Ness at Market', end_station_id='66', bike_id=553, subscription_type='Subscriber', zip_code='94103'),\n",
       " Trip(trip_id=4258, duration=114, start_date=datetime.datetime(2013, 8, 29, 11, 33), start_station_name='San Jose City Hall', start_station_id=10, end_date=datetime.datetime(2013, 8, 29, 11, 35), end_station_name='MLK Library', end_station_id='11', bike_id=107, subscription_type='Subscriber', zip_code='95060'),\n",
       " Trip(trip_id=4549, duration=125, start_date=datetime.datetime(2013, 8, 29, 13, 52), start_station_name='Spear at Folsom', start_station_id=49, end_date=datetime.datetime(2013, 8, 29, 13, 55), end_station_name='Embarcadero at Bryant', end_station_id='54', bike_id=368, subscription_type='Subscriber', zip_code='94109'),\n",
       " Trip(trip_id=4498, duration=126, start_date=datetime.datetime(2013, 8, 29, 13, 23), start_station_name='San Pedro Square', start_station_id=6, end_date=datetime.datetime(2013, 8, 29, 13, 25), end_station_name='Santa Clara at Almaden', end_station_id='4', bike_id=26, subscription_type='Subscriber', zip_code='95112')]"
      ]
     },
     "execution_count": 25,
     "metadata": {},
     "output_type": "execute_result"
    }
   ],
   "execution_count": 25
  },
  {
   "cell_type": "markdown",
   "id": "111e1fba-9ffe-4a55-81d7-021041f09865",
   "metadata": {},
   "source": [
    "Для каждой стартовой станции найдем среднее время поездки. Будем использовать метод groupByKey.\n",
    "\n",
    "Для этого потребуется преобразовать trips RDD в RDD коллекцию пар ключ-значение аналогично тому, как мы совершали это ранее методом keyBy."
   ]
  },
  {
   "cell_type": "code",
   "id": "5f5cf9b5-b470-4042-8c46-15d1afa22527",
   "metadata": {
    "ExecuteTime": {
     "end_time": "2025-05-13T13:09:35.166243Z",
     "start_time": "2025-05-13T13:09:35.162329Z"
    }
   },
   "source": [
    "tripsByStartStation = tripsInternal.keyBy(lambda trip: trip.start_station_name)"
   ],
   "outputs": [],
   "execution_count": 26
  },
  {
   "cell_type": "markdown",
   "id": "efcfc45a-465f-4e58-a55a-98069804d13f",
   "metadata": {},
   "source": [
    "Рассчитаем среднее время поездки для каждого стартового парковочного места"
   ]
  },
  {
   "cell_type": "code",
   "id": "106a733b-540b-4830-a781-b7bd91fe8785",
   "metadata": {
    "ExecuteTime": {
     "end_time": "2025-05-13T13:09:35.218634Z",
     "start_time": "2025-05-13T13:09:35.203188Z"
    }
   },
   "source": [
    "import numpy as np\n",
    "\n",
    "avgDurationByStartStation = tripsByStartStation \\\n",
    "    .mapValues(lambda trip: trip.duration) \\\n",
    "    .groupByKey() \\\n",
    "    .mapValues(lambda trip_durations: np.mean(list(trip_durations)))"
   ],
   "outputs": [],
   "execution_count": 27
  },
  {
   "cell_type": "markdown",
   "id": "b8facf2f-77f1-45b2-bf12-b57b95886bfc",
   "metadata": {},
   "source": [
    "Выведем первые 10 результатов"
   ]
  },
  {
   "cell_type": "code",
   "id": "3b8c0ad3-e939-4d6f-916c-1b558e50d17f",
   "metadata": {
    "ExecuteTime": {
     "end_time": "2025-05-13T13:10:18.912497Z",
     "start_time": "2025-05-13T13:09:35.238882Z"
    }
   },
   "source": [
    "%%time\n",
    "\n",
    "avgDurationByStartStation.top(10, key=lambda x: x[1])"
   ],
   "outputs": [
    {
     "name": "stdout",
     "output_type": "stream",
     "text": [
      "CPU times: total: 0 ns\n",
      "Wall time: 43.7 s\n"
     ]
    },
    {
     "data": {
      "text/plain": [
       "[('University and Emerson', np.float64(7090.239417989418)),\n",
       " ('California Ave Caltrain Station', np.float64(4628.005847953216)),\n",
       " ('Redwood City Public Library', np.float64(4579.234741784037)),\n",
       " ('Park at Olive', np.float64(4438.1613333333335)),\n",
       " ('San Jose Civic Center', np.float64(4208.016938519448)),\n",
       " ('Rengstorff Avenue / California Street', np.float64(4174.082373782108)),\n",
       " ('Redwood City Medical Center', np.float64(3959.491961414791)),\n",
       " ('Palo Alto Caltrain Station', np.float64(3210.6489815253435)),\n",
       " ('San Mateo County Center', np.float64(2716.7700348432054)),\n",
       " ('Broadway at Main', np.float64(2481.2537313432836))]"
      ]
     },
     "execution_count": 28,
     "metadata": {},
     "output_type": "execute_result"
    }
   ],
   "execution_count": 28
  },
  {
   "cell_type": "markdown",
   "id": "8acf13df-5033-4397-be08-5524b9d01c50",
   "metadata": {},
   "source": [
    "Выполнение операции groupByKey приводит к интенсивным передачам данных. Если группировка делается для последующей редукции элементов лучше использовать трансформацию reduceByKey или aggregateByKey. Их выполнение приведёт сначала к локальной редукции над разделом Partition, а затем будет произведено окончательное суммирование над полученными частичными суммами.\n",
    "\n",
    "*Примечание.* Выполнение reduceByKey логически сходно с выполнением Combine и Reduce фазы MapReduce  работы.\n",
    "\n",
    "Функция aggregateByKey является аналогом reduceByKey с возможностью указывать начальный элемент.\n",
    "\n",
    "Рассчитаем среднее значение с помощью aggregateByKey. Одновременно будут вычисляться два значения для каждого стартового терминала: сумма времён и количество поездок."
   ]
  },
  {
   "cell_type": "code",
   "id": "53c746c5-ee60-42b9-a1f3-465bbbdaa02b",
   "metadata": {
    "ExecuteTime": {
     "end_time": "2025-05-13T13:10:18.967600Z",
     "start_time": "2025-05-13T13:10:18.927262Z"
    }
   },
   "source": [
    "? tripsByStartStation.aggregateByKey"
   ],
   "outputs": [],
   "execution_count": 29
  },
  {
   "cell_type": "code",
   "id": "fcdafcfb-ed3c-4c18-9051-44cf3632625c",
   "metadata": {
    "ExecuteTime": {
     "end_time": "2025-05-13T13:10:19.053292Z",
     "start_time": "2025-05-13T13:10:19.036799Z"
    }
   },
   "source": [
    "def seq_func(acc, duration):\n",
    "    duration_sum, count = acc\n",
    "    return duration_sum + duration, count + 1\n",
    "\n",
    "\n",
    "def comb_func(acc1, acc2):\n",
    "    duration_sum1, count1 = acc1\n",
    "    duration_sum2, count2 = acc2\n",
    "    return duration_sum1 + duration_sum2, count1 + count2\n",
    "\n",
    "\n",
    "def mean_func(acc):\n",
    "    duration_sum, count = acc\n",
    "    return duration_sum / count\n",
    "\n",
    "\n",
    "avgDurationByStartStation2 = tripsByStartStation \\\n",
    "    .mapValues(lambda trip: trip.duration) \\\n",
    "    .aggregateByKey(\n",
    "    zeroValue=(0, 0),\n",
    "    seqFunc=seq_func,\n",
    "    combFunc=comb_func) \\\n",
    "    .mapValues(mean_func)"
   ],
   "outputs": [],
   "execution_count": 30
  },
  {
   "cell_type": "markdown",
   "id": "71665ff6-6ce3-48b1-a183-1d02b9c2e80e",
   "metadata": {},
   "source": [
    "В `zeroValue` передаётся начальное значение. В нашем случае это пара нулей. Первая функция `seqFunc` предназначена для прохода по коллекции партиции. На этом проходе значение элементов помещаются средой в переменную duration, а переменная «аккумулятора» acc накапливает значения. Вторая функция `combFunc` предназначена для этапа редукции частично посчитанных локальных результатов.\n",
    "\n",
    "Сравните результаты `avgDurationByStartStation` и `avgDurationByStartStation2` и их время выполнения."
   ]
  },
  {
   "cell_type": "code",
   "id": "c69d5013-f26e-4d6b-8fb6-277390a0f267",
   "metadata": {
    "ExecuteTime": {
     "end_time": "2025-05-13T13:11:02.781952Z",
     "start_time": "2025-05-13T13:10:19.080660Z"
    }
   },
   "source": [
    "%%time\n",
    "\n",
    "avgDurationByStartStation2.top(10, key=lambda x: x[1])"
   ],
   "outputs": [
    {
     "name": "stdout",
     "output_type": "stream",
     "text": [
      "CPU times: total: 0 ns\n",
      "Wall time: 43.7 s\n"
     ]
    },
    {
     "data": {
      "text/plain": [
       "[('University and Emerson', 7090.239417989418),\n",
       " ('California Ave Caltrain Station', 4628.005847953216),\n",
       " ('Redwood City Public Library', 4579.234741784037),\n",
       " ('Park at Olive', 4438.1613333333335),\n",
       " ('San Jose Civic Center', 4208.016938519448),\n",
       " ('Rengstorff Avenue / California Street', 4174.082373782108),\n",
       " ('Redwood City Medical Center', 3959.491961414791),\n",
       " ('Palo Alto Caltrain Station', 3210.6489815253435),\n",
       " ('San Mateo County Center', 2716.7700348432054),\n",
       " ('Broadway at Main', 2481.2537313432836)]"
      ]
     },
     "execution_count": 31,
     "metadata": {},
     "output_type": "execute_result"
    }
   ],
   "execution_count": 31
  },
  {
   "cell_type": "markdown",
   "id": "39ce42ac-d6ed-441d-9236-76fce6b35136",
   "metadata": {},
   "source": [
    "Теперь найдём первую поездку для каждой велостоянки. Для решения опять потребуется группировка. Ещё одним недостатком `groupByKey` данных является то, что для группировки данные должны поместиться в оперативной памяти. Это может привести к ошибке `OutOfMemoryException` для больших объёмов данных.\n",
    "\n",
    "Найдем самую раннюю поездку для каждой станции. Сгруппируем поездки по станциям, возьмём первую поездку из отсортированного списка:"
   ]
  },
  {
   "cell_type": "code",
   "id": "2f37ab32-5e2c-4596-ba09-9d6283e9fd6b",
   "metadata": {
    "ExecuteTime": {
     "end_time": "2025-05-13T13:11:02.828002Z",
     "start_time": "2025-05-13T13:11:02.811415Z"
    }
   },
   "source": [
    "def earliest_trip(trips):\n",
    "    if trips is None:\n",
    "        return None\n",
    "    if len(trips) == 0:\n",
    "        return trips\n",
    "    trips = list(trips)\n",
    "    min_date = trips[0].start_date\n",
    "    min_trip = trips[0]\n",
    "    for trip in trips[1:]:\n",
    "        if min_date > trip.start_date:\n",
    "            min_date = trip.start_date\n",
    "            min_trip = trip\n",
    "    return min_trip\n",
    "\n",
    "\n",
    "firstGrouped = tripsByStartStation \\\n",
    "    .groupByKey() \\\n",
    "    .mapValues(lambda trips: earliest_trip(trips))"
   ],
   "outputs": [],
   "execution_count": 32
  },
  {
   "cell_type": "code",
   "id": "7f74e315-c036-4992-9111-dff2d4150183",
   "metadata": {
    "ExecuteTime": {
     "end_time": "2025-05-13T13:12:15.431935Z",
     "start_time": "2025-05-13T13:11:02.881250Z"
    }
   },
   "source": [
    "%%time\n",
    "\n",
    "firstGrouped.take(5)"
   ],
   "outputs": [
    {
     "name": "stdout",
     "output_type": "stream",
     "text": [
      "CPU times: total: 0 ns\n",
      "Wall time: 1min 12s\n"
     ]
    },
    {
     "data": {
      "text/plain": [
       "[('Post at Kearney',\n",
       "  Trip(trip_id=4279, duration=1105, start_date=datetime.datetime(2013, 8, 29, 11, 53), start_station_name='Post at Kearney', start_station_id=47, end_date=datetime.datetime(2013, 8, 29, 12, 12), end_station_name='Post at Kearney', end_station_id='47', bike_id=602, subscription_type='Subscriber', zip_code='94114')),\n",
       " ('Steuart at Market',\n",
       "  Trip(trip_id=4289, duration=970, start_date=datetime.datetime(2013, 8, 29, 11, 58), start_station_name='Steuart at Market', start_station_id=74, end_date=datetime.datetime(2013, 8, 29, 12, 14), end_station_name='Steuart at Market', end_station_id='74', bike_id=570, subscription_type='Subscriber', zip_code='94109')),\n",
       " ('San Francisco Caltrain (Townsend at 4th)',\n",
       "  Trip(trip_id=4177, duration=278, start_date=datetime.datetime(2013, 8, 29, 11, 3), start_station_name='San Francisco Caltrain (Townsend at 4th)', start_station_id=70, end_date=datetime.datetime(2013, 8, 29, 11, 8), end_station_name='2nd at South Park', end_station_id='64', bike_id=371, subscription_type='Subscriber', zip_code='94117')),\n",
       " ('Embarcadero at Bryant',\n",
       "  Trip(trip_id=4558, duration=298, start_date=datetime.datetime(2013, 8, 29, 13, 57), start_station_name='Embarcadero at Bryant', start_station_id=54, end_date=datetime.datetime(2013, 8, 29, 14, 2), end_station_name='Harry Bridges Plaza (Ferry Building)', end_station_id='50', bike_id=275, subscription_type='Subscriber', zip_code='94109')),\n",
       " ('San Mateo County Center',\n",
       "  Trip(trip_id=4766, duration=315, start_date=datetime.datetime(2013, 8, 29, 17, 5), start_station_name='San Mateo County Center', start_station_id=23, end_date=datetime.datetime(2013, 8, 29, 17, 10), end_station_name='San Mateo County Center', end_station_id='23', bike_id=227, subscription_type='Subscriber', zip_code='94402'))]"
      ]
     },
     "execution_count": 33,
     "metadata": {},
     "output_type": "execute_result"
    }
   ],
   "execution_count": 33
  },
  {
   "cell_type": "markdown",
   "id": "c6020067-3a75-47e8-9bb1-9e36cded29a7",
   "metadata": {},
   "source": [
    "Лучшим вариантом с точки зрения эффективности будет использование трансформации `reduceByKey`"
   ]
  },
  {
   "cell_type": "code",
   "id": "750007e2-2706-4997-9b35-a44269b55200",
   "metadata": {
    "ExecuteTime": {
     "end_time": "2025-05-13T13:12:15.494301Z",
     "start_time": "2025-05-13T13:12:15.478972Z"
    }
   },
   "source": [
    "firstGrouped = tripsByStartStation \\\n",
    "    .reduceByKey(lambda trip_a, trip_b: trip_a if trip_a.start_date < trip_b.start_date else trip_b)"
   ],
   "outputs": [],
   "execution_count": 34
  },
  {
   "cell_type": "code",
   "id": "b98199bd-26dd-4112-87e4-e9505338bd3c",
   "metadata": {
    "ExecuteTime": {
     "end_time": "2025-05-13T13:12:57.261032Z",
     "start_time": "2025-05-13T13:12:15.563540Z"
    }
   },
   "source": [
    "%%time\n",
    "\n",
    "firstGrouped.take(5)"
   ],
   "outputs": [
    {
     "name": "stdout",
     "output_type": "stream",
     "text": [
      "CPU times: total: 0 ns\n",
      "Wall time: 41.7 s\n"
     ]
    },
    {
     "data": {
      "text/plain": [
       "[('Mountain View City Hall',\n",
       "  Trip(trip_id=4081, duration=218, start_date=datetime.datetime(2013, 8, 29, 9, 38), start_station_name='Mountain View City Hall', start_station_id=27, end_date=datetime.datetime(2013, 8, 29, 9, 41), end_station_name='Mountain View City Hall', end_station_id='27', bike_id=150, subscription_type='Subscriber', zip_code='97214')),\n",
       " ('San Jose City Hall',\n",
       "  Trip(trip_id=4160, duration=1271, start_date=datetime.datetime(2013, 8, 29, 10, 42), start_station_name='San Jose City Hall', start_station_id=10, end_date=datetime.datetime(2013, 8, 29, 11, 3), end_station_name='San Jose City Hall', end_station_id='10', bike_id=680, subscription_type='Subscriber', zip_code='95112')),\n",
       " ('South Van Ness at Market',\n",
       "  Trip(trip_id=4074, duration=1131, start_date=datetime.datetime(2013, 8, 29, 9, 24), start_station_name='South Van Ness at Market', start_station_id=66, end_date=datetime.datetime(2013, 8, 29, 9, 43), end_station_name='San Francisco Caltrain 2 (330 Townsend)', end_station_id='69', bike_id=317, subscription_type='Subscriber', zip_code='94115')),\n",
       " ('Golden Gate at Polk',\n",
       "  Trip(trip_id=4572, duration=4331, start_date=datetime.datetime(2013, 8, 29, 14, 7), start_station_name='Golden Gate at Polk', start_station_id=59, end_date=datetime.datetime(2013, 8, 29, 15, 20), end_station_name='Post at Kearney', end_station_id='47', bike_id=373, subscription_type='Customer', zip_code='94109')),\n",
       " ('Santa Clara at Almaden',\n",
       "  Trip(trip_id=4500, duration=109, start_date=datetime.datetime(2013, 8, 29, 13, 25), start_station_name='Santa Clara at Almaden', start_station_id=4, end_date=datetime.datetime(2013, 8, 29, 13, 27), end_station_name='Adobe on Almaden', end_station_id='5', bike_id=679, subscription_type='Subscriber', zip_code='95112'))]"
      ]
     },
     "execution_count": 35,
     "metadata": {},
     "output_type": "execute_result"
    }
   ],
   "execution_count": 35
  },
  {
   "cell_type": "code",
   "id": "c98261f7-283c-4c7e-b915-3778ff972f5f",
   "metadata": {
    "ExecuteTime": {
     "end_time": "2025-05-13T13:12:58.247703Z",
     "start_time": "2025-05-13T13:12:57.288931Z"
    }
   },
   "source": [
    "sc.stop()"
   ],
   "outputs": [],
   "execution_count": 36
  }
 ],
 "metadata": {
  "kernelspec": {
   "display_name": "Python 3",
   "language": "python",
   "name": "python3"
  },
  "language_info": {
   "codemirror_mode": {
    "name": "ipython",
    "version": 3
   },
   "file_extension": ".py",
   "mimetype": "text/x-python",
   "name": "python",
   "nbconvert_exporter": "python",
   "pygments_lexer": "ipython3",
   "version": "3.9.5"
  }
 },
 "nbformat": 4,
 "nbformat_minor": 5
}
